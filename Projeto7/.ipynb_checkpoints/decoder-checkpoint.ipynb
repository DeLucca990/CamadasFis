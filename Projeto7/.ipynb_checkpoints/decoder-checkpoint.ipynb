{
 "cells": [
  {
   "cell_type": "code",
   "execution_count": 49,
   "metadata": {},
   "outputs": [],
   "source": [
    "from suaBibSignal import *\n",
    "import peakutils    #alternativas  #from detect_peaks import *   #import pickle\n",
    "import numpy as np\n",
    "import sounddevice as sd\n",
    "import matplotlib.pyplot as plt\n",
    "import time"
   ]
  },
  {
   "cell_type": "code",
   "execution_count": 50,
   "metadata": {},
   "outputs": [
    {
     "name": "stdout",
     "output_type": "stream",
     "text": [
      "Inicializando o decoder...\n"
     ]
    }
   ],
   "source": [
    "print(\"Inicializando o decoder...\")\n",
    "fs = 44100\n",
    "sd.default.samplerate = fs\n",
    "sd.default.channels = 1\n",
    "duration = 5\n",
    "samples = duration * fs\n",
    "\n",
    "dtmf_frequencies = {\n",
    "        '1': (697, 1209),\n",
    "        '2': (697, 1336),\n",
    "        '3': (697, 1477),\n",
    "        '4': (770, 1209),\n",
    "        '5': (770, 1336),\n",
    "        '6': (770, 1477),\n",
    "        '7': (852, 1209),\n",
    "        '8': (852, 1336),\n",
    "        '9': (852, 1477),\n",
    "        '*': (941, 1209),\n",
    "        '0': (941, 1336),\n",
    "        '#': (941, 1477),\n",
    "        'A': (697, 1633),\n",
    "        'B': (770, 1633),\n",
    "        'C': (852, 1633),\n",
    "        'D': (941, 1633)\n",
    "}"
   ]
  },
  {
   "cell_type": "code",
   "execution_count": 51,
   "metadata": {},
   "outputs": [
    {
     "name": "stdout",
     "output_type": "stream",
     "text": [
      "Começando a gravar em 2 segundos...\n",
      "Gravando...\n",
      "Gravação finalizada!\n"
     ]
    }
   ],
   "source": [
    "t = 2\n",
    "print(f\"Começando a gravar em {t} segundos...\")\n",
    "time.sleep(t)\n",
    "print(\"Gravando...\")\n",
    "myrecording = sd.rec(int(samples), samplerate=fs, channels=1)\n",
    "sd.wait()\n",
    "print(\"Gravação finalizada!\")"
   ]
  },
  {
   "cell_type": "code",
   "execution_count": 52,
   "metadata": {},
   "outputs": [
    {
     "name": "stdout",
     "output_type": "stream",
     "text": [
      "Índices de picos: [3849 6045]\n",
      "Frequências dos picos: [ 769.80698238 1209.01096609]\n"
     ]
    },
    {
     "data": {
      "image/png": "[encoded data removed]",
      "text/plain": [
       "<Figure size 432x288 with 1 Axes>"
      ]
     },
     "metadata": {
      "needs_background": "light"
     },
     "output_type": "display_data"
    }
   ],
   "source": [
    "y = myrecording[:,0]\n",
    "signal = signalMeu()\n",
    "\n",
    "# Encontre os indices dos picos\n",
    "xf, yf = signal.calcFFT(y, fs)\n",
    "\n",
    "# Encontre os indices dos picos\n",
    "indexes = peakutils.indexes(yf, thres=0.2, min_dist=150)\n",
    "peak_freqs = xf[indexes]\n",
    "print(f\"Índices de picos: {indexes}\")\n",
    "print(f\"Frequências dos picos: {peak_freqs}\")\n",
    "\n",
    "# Calcule e plote o Fourier do sinal audio. como saida tem-se a amplitude e as frequencias\n",
    "signal.plotFFT(y, fs)\n",
    "plt.xlim(0, 2000)\n",
    "plt.show()"
   ]
  },
  {
   "cell_type": "code",
   "execution_count": 53,
   "metadata": {},
   "outputs": [
    {
     "name": "stdout",
     "output_type": "stream",
     "text": [
      "Tecla DTMF identificada: 4\n"
     ]
    }
   ],
   "source": [
    "# Função para encontrar a tecla DTMF\n",
    "def find_dtmf_key(frequencies, dtmf_dict, tolerance=0.5):\n",
    "    for key, value in dtmf_dict.items():\n",
    "        freq1, freq2 = value\n",
    "        if np.isclose(frequencies[0], freq1, atol=tolerance) and np.isclose(frequencies[1], freq2, atol=tolerance):\n",
    "            return key\n",
    "    return None\n",
    "\n",
    "if len(peak_freqs) > 1:\n",
    "    key = find_dtmf_key(peak_freqs, dtmf_frequencies)\n",
    "    if key:\n",
    "        print(f\"Tecla DTMF identificada: {key}\")\n",
    "    else:\n",
    "        print(\"Nenhuma tecla DTMF correspondente encontrada.\")\n",
    "else:\n",
    "    print(\"Nenhuma frequencia correspondente encontrada.\")"
   ]
  },
  {
   "cell_type": "code",
   "execution_count": null,
   "metadata": {},
   "outputs": [],
   "source": []
  },
  {
   "cell_type": "code",
   "execution_count": null,
   "metadata": {},
   "outputs": [],
   "source": []
  }
 ],
 "metadata": {
  "kernelspec": {
   "display_name": "Python 3 (ipykernel)",
   "language": "python",
   "name": "python3"
  },
  "language_info": {
   "codemirror_mode": {
    "name": "ipython",
    "version": 3
   },
   "file_extension": ".py",
   "mimetype": "text/x-python",
   "name": "python",
   "nbconvert_exporter": "python",
   "pygments_lexer": "ipython3",
   "version": "3.9.12"
  }
 },
 "nbformat": 4,
 "nbformat_minor": 2
}
